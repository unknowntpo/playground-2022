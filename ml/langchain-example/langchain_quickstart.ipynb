{
 "cells": [
  {
   "cell_type": "code",
   "execution_count": 6,
   "id": "5ae50b86-32fa-405f-ad30-afdc7ed37e7a",
   "metadata": {},
   "outputs": [],
   "source": [
    "from langchain_community.llms import Ollama\n",
    "llm = Ollama(model=\"llama2\") "
   ]
  },
  {
   "cell_type": "code",
   "execution_count": 7,
   "id": "5d256a7b-fd89-40e7-b8f0-915b241970fb",
   "metadata": {},
   "outputs": [
    {
     "data": {
      "text/plain": [
       "\"\\nLangSmith is a language model developed by Meta AI that can assist with various tasks, including testing. Here are some ways LangSmith can help with testing:\\n\\n1. Automated Testing: LangSmith can be used to automate testing processes, such as regression testing, which involves re-running a series of tests to ensure that changes made to the system have not introduced new bugs or issues. LangSmith can quickly generate test cases based on existing tests and execute them automatically, saving time and reducing manual effort.\\n2. Test Data Generation: LangSmith can be used to generate test data, such as input values or scenarios, that can be used to test the system. This can help reduce the time and effort required to create test data manually.\\n3. Test Case Design: LangSmith can assist in designing test cases by suggesting test scenarios based on the system's requirements and potential failures. This can help ensure that all possible scenarios are covered and increase the effectiveness of testing.\\n4. Test Coverage Analysis: LangSmith can analyze test coverage to identify areas of the system that have not been adequately tested. This can help prioritize testing efforts and ensure that all critical components of the system are thoroughly tested.\\n5. Bug Detection: LangSmith can be used to detect bugs in the system by analyzing output data and identifying anomalies or unexpected results. This can help identify issues early in the development process, reducing the overall cost and time required for testing.\\n6. Test Optimization: LangSmith can optimize test cases and test suites based on historical testing data, execution time, and other factors. This can help reduce the overall testing time and effort while maintaining comprehensive test coverage.\\n7. Defect Prediction: LangSmith can predict potential defects in the system based on historical data and machine learning algorithms. This can help identify potential issues early in the development process and prioritize testing efforts accordingly.\\n8. Test Report Generation: LangSmith can generate detailed test reports, including pass/fail status, execution time, and other metrics. This can help provide a comprehensive overview of testing progress and identify areas for improvement.\\n\\nBy leveraging LangSmith's language processing capabilities and machine learning algorithms, developers and testers can streamline their testing processes, reduce manual effort, and improve overall testing effectiveness.\""
      ]
     },
     "execution_count": 7,
     "metadata": {},
     "output_type": "execute_result"
    }
   ],
   "source": [
    "llm.invoke(\"how can langsmith help with testing?\")\n"
   ]
  },
  {
   "cell_type": "code",
   "execution_count": 9,
   "id": "774cb843-442c-4dab-b3c1-0cb26c1cff78",
   "metadata": {},
   "outputs": [],
   "source": [
    "from langchain_core.prompts import ChatPromptTemplate\n",
    "prompt = ChatPromptTemplate.from_messages([\n",
    "    (\"system\", \"You are world class technical documentation writer.\"),\n",
    "    (\"user\", \"{input}\")\n",
    "])"
   ]
  },
  {
   "cell_type": "code",
   "execution_count": 12,
   "id": "92c60160-3253-4f38-8a2d-9e6e3b9c08ed",
   "metadata": {},
   "outputs": [],
   "source": [
    "chain = prompt | llm"
   ]
  },
  {
   "cell_type": "code",
   "execution_count": 14,
   "id": "b9b574b7-87f8-4a74-bb69-ed2590271350",
   "metadata": {},
   "outputs": [
    {
     "data": {
      "text/plain": [
       "\"\\nAs a world-class technical documentation writer, I'm happy to assist you in exploring the potential of Langsmith for testing purposes! 😊\\n\\nLangsmith is a powerful language model that can be leveraged for various tasks, including testing. Here are some ways Langsmith can help with testing:\\n\\n1. Automated Testing: Langsmith can be used to generate automated test cases based on your documentation. By analyzing your technical writing, Langsmith can identify potential bugs or issues and generate test cases that can be run automatically. This can save you a lot of time and effort compared to manually testing every possible scenario.\\n2. Regression Testing: When new features or updates are introduced to your product, Langsmith can help with regression testing. By analyzing the changes made to your documentation, Langsmith can identify potential issues that may have been introduced and generate test cases to ensure that the new features or updates work as expected.\\n3. Exploratory Testing: Langsmith can also be used for exploratory testing, where it can analyze your documentation and suggest additional test cases based on the content and structure of your writing. This can help you identify potential issues or edge cases that may not have been considered during the development process.\\n4. Documentation Review: As a technical writer, Langsmith can help review and update your documentation to ensure that it accurately reflects the current state of your product. By analyzing your documentation, Langsmith can identify any inconsistencies or outdated information and suggest updates to keep your documentation up-to-date.\\n5. Test Data Generation: Langsmith can also generate test data based on your documentation, such as input values or sample output. This can be particularly useful when you need to test a large number of scenarios or when you're struggling to come up with test data manually.\\n\\nBy leveraging Langsmith for testing, you can save time and resources while improving the quality and accuracy of your testing efforts. Just let me know how I can help you get started! 😊\""
      ]
     },
     "execution_count": 14,
     "metadata": {},
     "output_type": "execute_result"
    }
   ],
   "source": [
    "chain.invoke({\"input\": \"how can langsmith help with testing?\"})"
   ]
  }
 ],
 "metadata": {
  "kernelspec": {
   "display_name": "Python 3 (ipykernel)",
   "language": "python",
   "name": "python3"
  },
  "language_info": {
   "codemirror_mode": {
    "name": "ipython",
    "version": 3
   },
   "file_extension": ".py",
   "mimetype": "text/x-python",
   "name": "python",
   "nbconvert_exporter": "python",
   "pygments_lexer": "ipython3",
   "version": "3.10.14"
  }
 },
 "nbformat": 4,
 "nbformat_minor": 5
}
